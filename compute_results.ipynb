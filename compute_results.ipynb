{
 "cells": [
  {
   "cell_type": "code",
   "execution_count": null,
   "metadata": {},
   "outputs": [],
   "source": [
    "import numpy as np\n",
    "import math\n",
    "import csv\n",
    "import pandas as pd"
   ]
  },
  {
   "cell_type": "code",
   "execution_count": null,
   "metadata": {},
   "outputs": [],
   "source": [
    "GEOMEAN_PER_PROBLEM = False\n",
    "problem_names = [\n",
    "    '1dconv_cpu',\n",
    "    '1dconv_gpu',\n",
    "    'dwspconv2d_gpu',\n",
    "    'gemm_gpu'\n",
    "]\n",
    "leaderboard_files = ['leaderboards_2024-04-30 12:48:07.680398', 'leaderboards_2024-04-30 13:02:11.682227', 'leaderboards_2024-04-30 13:10:16.072927', 'leaderboards_2024-04-30 13:18:19.082314', 'leaderboards_2024-04-30 13:34:04.054430']\n"
   ]
  },
  {
   "cell_type": "code",
   "execution_count": null,
   "metadata": {},
   "outputs": [],
   "source": [
    "def add_problem_times_to_map(orig_map, problem_name, problem_array):\n",
    "    for item in problem_array:\n",
    "        id, time = item[0], item[1]\n",
    "        if id not in orig_map:\n",
    "            orig_map[id] = {}\n",
    "        if problem_name not in orig_map[id]:\n",
    "            orig_map[id][problem_name] = []\n",
    "        orig_map[id][problem_name].append(float(time))\n",
    "    return orig_map\n",
    "\n"
   ]
  },
  {
   "cell_type": "code",
   "execution_count": null,
   "metadata": {},
   "outputs": [],
   "source": [
    "results = {}\n",
    "for file in leaderboard_files:\n",
    "    leaderboard = np.load(file + '.npy', allow_pickle=True)\n",
    "    for i in range(0, len(problem_names)):\n",
    "        add_problem_times_to_map(results, problem_names[i], leaderboard[i])"
   ]
  },
  {
   "cell_type": "code",
   "execution_count": null,
   "metadata": {},
   "outputs": [],
   "source": [
    "results"
   ]
  },
  {
   "cell_type": "code",
   "execution_count": null,
   "metadata": {},
   "outputs": [],
   "source": [
    "# Merge results arrays into one number using geometric mean\n",
    "problem_results = {}\n",
    "for id in results:\n",
    "    problem_results[id] = {}\n",
    "    for problem in results[id]:\n",
    "        times = results[id][problem]\n",
    "        problem_results[id][problem] = math.prod(times)**(1/len(times))\n",
    "\n",
    "problem_results"
   ]
  },
  {
   "cell_type": "code",
   "execution_count": null,
   "metadata": {},
   "outputs": [],
   "source": [
    "final_results = {}\n",
    "\n",
    "# Merge results of all problems into 1 number using mean\n",
    "for id in problem_results:\n",
    "    times = problem_results[id].values()\n",
    "    if GEOMEAN_PER_PROBLEM:\n",
    "        final_results[id] = math.prod(times)**(1/len(times))\n",
    "    else:\n",
    "        final_results[id] = sum(times) / len(times)\n",
    "\n",
    "\n",
    "final_results"
   ]
  },
  {
   "cell_type": "code",
   "execution_count": null,
   "metadata": {},
   "outputs": [],
   "source": [
    "# Sort final_results by value ascendingly\n",
    "final_results = dict(sorted(final_results.items(), key=lambda item: item[1]))\n",
    "\n",
    "final_results"
   ]
  },
  {
   "cell_type": "code",
   "execution_count": null,
   "metadata": {},
   "outputs": [],
   "source": [
    "# Save final_results to a csv\n",
    "\n",
    "with open('final_results.csv', mode='w') as file:\n",
    "    writer = csv.writer(file)\n",
    "    cols = ['id']\n",
    "    cols+= problem_names\n",
    "    cols.append('geomean')\n",
    "    writer.writerow(cols)\n",
    "    for id in final_results:\n",
    "        row = [id]\n",
    "        for problem in problem_names:\n",
    "            row.append(problem_results[id][problem])\n",
    "        row.append(final_results[id])\n",
    "        writer.writerow(row)\n"
   ]
  },
  {
   "cell_type": "code",
   "execution_count": null,
   "metadata": {},
   "outputs": [],
   "source": [
    "repos = np.load('repos.npy', allow_pickle=True)\n",
    "repos.item()"
   ]
  },
  {
   "cell_type": "code",
   "execution_count": null,
   "metadata": {},
   "outputs": [],
   "source": [
    "github_handles = pd.read_csv('github_handles.csv')\n",
    "\n",
    "github_handles"
   ]
  },
  {
   "cell_type": "code",
   "execution_count": null,
   "metadata": {},
   "outputs": [],
   "source": [
    "id_to_netid = {}\n",
    "for index, row in github_handles.iterrows():\n",
    "    github_username = row['github_username']\n",
    "    anon_id = None\n",
    "    for id, vals in repos.item().items():\n",
    "        if vals[0] == f'a3-{github_username}':\n",
    "            anon_id = id\n",
    "            break\n",
    "    id_to_netid[anon_id] = row['identifier']\n",
    "\n",
    "id_to_netid"
   ]
  },
  {
   "cell_type": "code",
   "execution_count": null,
   "metadata": {},
   "outputs": [],
   "source": [
    "# Write CSV that contains NetID along with rest of results\n",
    "with open('final_results_with_netid.csv', mode='w') as file:\n",
    "    writer = csv.writer(file)\n",
    "    cols = ['id', 'netid']\n",
    "    cols+= problem_names\n",
    "    cols.append('geomean')\n",
    "    writer.writerow(cols)\n",
    "    for id in final_results:\n",
    "        row = [id, id_to_netid[id]]\n",
    "        for problem in problem_names:\n",
    "            row.append(problem_results[id][problem])\n",
    "        row.append(final_results[id])\n",
    "        writer.writerow(row)"
   ]
  }
 ],
 "metadata": {
  "kernelspec": {
   "display_name": "env",
   "language": "python",
   "name": "python3"
  },
  "language_info": {
   "codemirror_mode": {
    "name": "ipython",
    "version": 3
   },
   "file_extension": ".py",
   "mimetype": "text/x-python",
   "name": "python",
   "nbconvert_exporter": "python",
   "pygments_lexer": "ipython3",
   "version": "3.8.8"
  }
 },
 "nbformat": 4,
 "nbformat_minor": 2
}
